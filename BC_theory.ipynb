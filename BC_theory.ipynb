{
 "cells": [
  {
   "cell_type": "markdown",
   "metadata": {},
   "source": [
    "# This script is a summary of the learning done towards the design of a positron bunch compressor for the FCC-ee pre-injector complex"
   ]
  },
  {
   "cell_type": "code",
   "execution_count": 2,
   "metadata": {},
   "outputs": [],
   "source": [
    "#load libraries\n",
    "import numpy as np \n",
    "from matplotlib import pyplot as plt "
   ]
  },
  {
   "cell_type": "markdown",
   "metadata": {},
   "source": [
    "Here comes some basic theory that will be very important for the design of a bunch compressor. In general, we are dealing with particles in a 6D phase space, with the following matrix formalism:\n",
    "\\begin{equation}\n",
    "    \\begin{bmatrix}\n",
    "    x \\\\\n",
    "    x' \\\\\n",
    "    y\\\\\n",
    "    y''\\\\\n",
    "    z\\\\\n",
    "    \\delta \n",
    "    \\end{bmatrix}_s\n",
    "    =\n",
    "    \\begin{bmatrix}\n",
    "    R_{11}  & & & \\cdots & & R_{16} \\\\\n",
    "    & & & & & \\\\\n",
    "    \\vdots & & \\ddots & & R_{55} & R_{56} \\\\\n",
    "    R_{61} & & & \\cdots & R_{65} & R_{66}\n",
    "    \\end{bmatrix}\n",
    "    \\begin{bmatrix}\n",
    "    x \\\\\n",
    "    x' \\\\\n",
    "    y\\\\\n",
    "    y''\\\\\n",
    "    z\\\\\n",
    "    \\delta \n",
    "    \\end{bmatrix}_0\n",
    "\\end{equation}"
   ]
  },
  {
   "cell_type": "markdown",
   "metadata": {},
   "source": [
    "since we'll be mostly dealing with the last two (longitudinal, $z$ and $\\delta$) coordinates, we can write this also as:\n",
    "\\begin{equation}\n",
    "    \\begin{bmatrix}\n",
    "    z\\\\\n",
    "    \\delta \n",
    "    \\end{bmatrix}_s\n",
    "    =\n",
    "    \\begin{bmatrix}\n",
    "        R_{55} & R_{56} \\\\\n",
    "        R_{65} & R_{66}\n",
    "    \\end{bmatrix}\n",
    "    \\begin{bmatrix}\n",
    "    z\\\\\n",
    "    \\delta \n",
    "    \\end{bmatrix}_0\n",
    "\\end{equation}"
   ]
  },
  {
   "cell_type": "markdown",
   "metadata": {},
   "source": [
    "for reference, here is a list of variables used throughout this notebook, with their explanations:\n",
    "- $\\delta = \\frac{\\Delta p}{p}$ is the energy deviation of a particle from a reference particle\n",
    "- $x_d(s)$ is a trajectory deviation of of an off-momentum particle\n",
    "- $D(s)$ is the dispersion function as a function of position along the beamline $s$\n",
    "- $\\theta$ is generally a bending angle\n",
    "- $\\rho$ is the bending radius of a particle in a dipole"
   ]
  },
  {
   "cell_type": "markdown",
   "metadata": {},
   "source": [
    "In general, a bunch compressor performs two main actions:\n",
    "1. an energy chirp (a general correlation between a particle's arrival time and its energy) needs to be introduced. This can be done via an RF cavity which has $\\phi_s=0$ or $\\phi_s=\\pi$, i.e. the cavity field zer-crossing is in phase with the reference particle. In other words, the reference particle is not accelerated, only the bunch is stretched in momentum. Stated even differently, a particle arriving later will experience different field than the (non-accelerated) reference particle, and its momentum will be changed in accordance with how much it is \"lagging behind\" or \"ahead of\" the reference particle.\n",
    "2. This energy chirp is used to shorten the bunch via having particles with different momentum travel a longer/shorter distance through a dispersive optical system."
   ]
  },
  {
   "cell_type": "markdown",
   "metadata": {},
   "source": [
    "# A discussion of a magnetic chicane:"
   ]
  },
  {
   "cell_type": "markdown",
   "metadata": {},
   "source": [
    "the dispersion function $D(s)$ is defined as follows:\n",
    "\\begin{equation}\n",
    "    x_d(s)=D(s)\\delta\n",
    "\\end{equation}\n",
    "the path length of an slightly off-momentum particle travelling through a dipole field is then\n",
    "\\begin{equation}\n",
    "    ds_d=(x+\\rho)d\\theta=\\left(1+\\frac{x}{\\rho}\\right)\\rho d\\theta =\\left(1+\\frac{D\\delta}{\\rho}\\right)ds\n",
    "\\end{equation}\n",
    "where $\\rho$ is the bending radius of a reference particle, and $x$ is a small offset in an off-momentum particle's arrival location (and hence its own bending radius). The difference in the path lengths (off-momentum particle vs reference particle) is \n",
    "\\begin{equation}\n",
    "    \\Delta s=ds_d-ds=\\frac{D\\delta}{\\rho}ds\n",
    "\\end{equation}\n",
    "This can be integrated along the whole path $s$, yielding\n",
    "\\begin{equation}\n",
    "    \\frac{\\Delta L}{\\delta}=\\frac{1}{\\delta}\\int\\Delta s=\\int_0^L\\frac{D(s)}{\\rho}ds\n",
    "\\end{equation}"
   ]
  },
  {
   "cell_type": "markdown",
   "metadata": {},
   "source": [
    "Now, the longitudinal transfer functions through a dipole can be (approximately) described via the following linear equations:\n",
    "\\begin{equation}\n",
    "    z_{out} = z_{in}+\\frac{\\Delta L}{\\delta_{in}}\\delta_{in}\n",
    "\\end{equation}\n",
    "\n",
    "\\begin{equation}\n",
    "    \\delta_{out}=\\delta_{in}\n",
    "\\end{equation}\n",
    "arising from the fact that dipole does not add/remove energy from the particles, only bends their trajectory (hence momentum spread does not change). This can be written in the matrix form:\n",
    "\n",
    "\\begin{equation}\n",
    "    \\begin{bmatrix}\n",
    "    z\\\\\n",
    "    \\delta \n",
    "    \\end{bmatrix}_{out}\n",
    "    =\n",
    "    \\begin{bmatrix}\n",
    "        1 & R_{56} \\\\\n",
    "        0 & 1\n",
    "    \\end{bmatrix}\n",
    "    \\begin{bmatrix}\n",
    "    z\\\\\n",
    "    \\delta \n",
    "    \\end{bmatrix}_{in}\n",
    "\\end{equation}\n",
    "\n",
    "hence, it can be seen that \n",
    "\\begin{equation}\n",
    "    R_{56}=\\frac{\\Delta L}{\\delta}\n",
    "\\end{equation}\n",
    "which is the equation above. $R_{56}$ can be understood as the change in path length of an off-momentum particle over the momentum offset, and is a parameter of a set of optical elements performimng a dispersive action. $R_{56}$ is perhaps the most important parameter of a bunch compressor, and needs to be calculated separately for each geometry/layout of components. The specific derivations will come later in this notebook."
   ]
  },
  {
   "cell_type": "markdown",
   "metadata": {},
   "source": [
    "It is also interesting to note how $R_{56}$ relates to the momentum compaction factor $\\alpha_c$, defined as\n",
    "\\begin{equation}\n",
    "    \\alpha_c=\\frac{\\frac{\\Delta L}{L}}{\\delta} \\implies R_{56}=\\alpha_cL\n",
    "\\end{equation}\n",
    "\n",
    "R_{56} is simply the momentum compaction factor multiplied by the length of the dispersive system."
   ]
  },
  {
   "cell_type": "markdown",
   "metadata": {},
   "source": [
    "# RF system:"
   ]
  },
  {
   "cell_type": "markdown",
   "metadata": {},
   "source": [
    "Before the compression can be done, however, an energy chirp needs to be introduced to the bunch. If particles with both high and low momenta are uniformly distributed from the nose to tail of the bunch, no compression can be done. The following 3 equations describe the longitudinal dynamics of an RF cavity:"
   ]
  },
  {
   "cell_type": "markdown",
   "metadata": {},
   "source": [
    "\\begin{equation}\n",
    "    E_{in}=E_{s,in}(1+\\delta_{in})\n",
    "\\end{equation}\n",
    "\n",
    "\\begin{equation}\n",
    "    E_{s,out}=E_{s,in}+qV\\sin(\\phi_s)\n",
    "\\end{equation}\n",
    "\n",
    "\\begin{equation}\n",
    "    E_{out}=E_{s,out}(1+\\delta_{out})=E_{in}+qV\\sin(\\phi_s-\\Delta \\phi)\n",
    "\\end{equation}\n",
    "\n",
    "Described in words, one equation after another:\n",
    "1. energy of an incoming general particle arriving in the cavity is the synchronous particle energy plus some offset\n",
    "2. energy of the synchronous particle after the cavity is its original energy plus modulation according to its charge, the cavity voltage, and the sinusoidal variation of the field, shifted by a phase $\\phi_s$ of the cavity. If $\\phi_s=0$ or $\\phi_s=\\pi$, there is no acceleration of this reference particle.\n",
    "3. a general particle will be accelerated/decelerated based on its phase offset from the reference particle $\\Delta \\phi=k_{rf}z_{in}=\\frac{2\\pi}{c}z_{in}f_{RF}$. Here, $k_rf=\\frac{2\\pi}{c}f_{RF}$ is the RF cavity wavevector, $f_{RF}$ simply the cavity frequency of operation, and $z_in$ is the longitudinal distance of a general particle from the reference particle."
   ]
  },
  {
   "cell_type": "markdown",
   "metadata": {},
   "source": [
    "after doing a bit of algebra, we get:\n",
    "\\begin{equation}\n",
    "    \\delta_{out}=\\frac{E_{s,in}(1+\\delta_{in})+qV\\sin(\\phi_s-\\Delta \\phi_)}{E_{s,in}+qV\\sin(\\phi_s)}-1\n",
    "\\end{equation}"
   ]
  },
  {
   "cell_type": "markdown",
   "metadata": {},
   "source": [
    "now, one can use a little trick. The ratio \\frac{qV}{E_{s,in}}, aka the max. energy added by a single pass through the RF cavity to the energy of the reference particle, is very small once we operate at high beam energies already. One can use this to linearize the above expression, according to the following formula (simple Taylor expansion, basically):\n",
    "\n",
    "\\begin{equation}\n",
    "    (1+\\Delta x)^n\\simeq 1+n\\Delta x\n",
    "\\end{equation}\n",
    "assuming that $\\Delta x$ is small."
   ]
  },
  {
   "cell_type": "markdown",
   "metadata": {},
   "source": [
    "using this, and then discarding higher order terms of $\\frac{qV}{E_{s,in}}$, we get:\n",
    "\\begin{equation}\n",
    "    \\delta_{out}\\simeq\\delta_{in}\\left(1-\\frac{qV}{E_{s,in}}\\sin(\\phi_s)\\right)-\\frac{qV}{E_{s,in}}\\sin(\\phi_s)+\\frac{qV}{E_{s,in}}\\sin(\\phi_s-\\Delta\\phi)\n",
    "\\end{equation}"
   ]
  },
  {
   "cell_type": "markdown",
   "metadata": {},
   "source": [
    "now, another linearization can be done on the last term, via using the formula for a sine of a difference, and recalling that for small $\\Delta x$, we have\n",
    "\\begin{equation}\n",
    "    \\sin(\\Delta x)\\simeq \\Delta x\n",
    "\\end{equation}\n",
    "\n",
    "\\begin{equation}\n",
    "    \\cos(\\Delta x)\\simeq 1\n",
    "\\end{equation}\n",
    "Again, one can recognize as the begining of a taylor expansion. Hence, we have\n",
    "\\begin{equation}\n",
    "    \\sin(phi_s-\\Delta \\phi)\\simeq-\\cos{\\phi_s}\\Delta \\phi\n",
    "\\end{equation}\n",
    "and\n",
    "\\begin{equation}\n",
    "    \\delta_{out}\\simeq\\delta_{in}\\left(1-\\frac{qV}{E_{s,in}}\\sin(\\phi_s)\\right)-\\frac{qV}{E_{s,in}}\\cos(\\phi_s)\\frac{2\\pi}{c}f_{RF}z_{in}\n",
    "\\end{equation}"
   ]
  },
  {
   "cell_type": "markdown",
   "metadata": {},
   "source": [
    "Using the matrix formalism above, and assuming that an RF cavity is thin (aka it does not change $z$, and only changes the momentum offset of a particle $\\delta$ along its length), we can write:\n",
    "\n",
    "\\begin{equation}\n",
    "    z_{out}=z_{in}\n",
    "\\end{equation}\n",
    "\n",
    "\\begin{equation}\n",
    "    \\delta_{out}=R_{65}z_{in}+R_{66}\\delta_{in}\n",
    "\\end{equation}\n",
    "or simply\n",
    "\\begin{equation}\n",
    "    \\begin{bmatrix}\n",
    "    z\\\\\n",
    "    \\delta \n",
    "    \\end{bmatrix}_{out}\n",
    "    =\n",
    "    \\begin{bmatrix}\n",
    "        1 & 0 \\\\\n",
    "        R_{65} & R_{66}\n",
    "    \\end{bmatrix}\n",
    "    \\begin{bmatrix}\n",
    "    z\\\\\n",
    "    \\delta \n",
    "    \\end{bmatrix}_{in}\n",
    "\\end{equation}\n",
    "where\n",
    "\\begin{equation}\n",
    "    R_{65}=-\\frac{qV}{E_{s,in}}\\frac{2\\pi}{c}f_{RF}\\cos(\\phi_s)\n",
    "\\end{equation}\n",
    "\n",
    "\\begin{equation}\n",
    "    R_{66}=1-\\frac{qV}{E_{s,in}}\\sin(\\phi_s)\n",
    "\\end{equation}\n",
    "\n",
    "When $\\phi_s=0$ or $\\phi_s=\\pi$ (aka no acceleration of the reference particle, which is the desired design), we have $R_{66}=1$ and\n",
    "\\begin{equation}\n",
    "    R_{65}=-\\frac{qV}{E_{s,in}}\\frac{2\\pi}{c}f_{RF}\n",
    "\\end{equation}"
   ]
  },
  {
   "cell_type": "markdown",
   "metadata": {},
   "source": [
    "# Combining RF cavity chirp with dispersive optics:"
   ]
  },
  {
   "cell_type": "markdown",
   "metadata": {},
   "source": [
    "Now, one can combine an RF cavity with a bunch of dipoles, and actually design a basic bunch compressor. The matrix of the whole system will then be (assuming no acceleration in the Rf cavity again)\n",
    "\\begin{equation}\n",
    "    R_{system}=R_{optics}R_{RF}=\n",
    "    \\begin{bmatrix}\n",
    "        1 & R_{56} \\\\\n",
    "        0 & 1\n",
    "    \\end{bmatrix}\n",
    "    \\begin{bmatrix}\n",
    "        1 & 0 \\\\\n",
    "        R_{65} & R_{66}\n",
    "    \\end{bmatrix}\n",
    "    =\n",
    "    \\begin{bmatrix}\n",
    "        1+R_{56}R_{65} & R_{56}\\\\\n",
    "        R_{65} & 1\n",
    "    \\end{bmatrix}\n",
    "\\end{equation}"
   ]
  },
  {
   "cell_type": "markdown",
   "metadata": {},
   "source": [
    "This means that the longitudinal distance of a particle from the reference particle after passing through the system will be\n",
    "\\begin{equation}\n",
    "    z_{out} = (1+R_{56}R_{65})z_{in}+R_{56}\\delta_{in}\n",
    "\\end{equation}\n",
    "This is minimized when $R_{56}=-\\frac{1}{R_{65}}$. In other words, once one knows the parameters of the RF cavity (namely the voltage and frequency), and the charge and energy of the reference particle, the value of $R_{56}$ required to minimize the longitudinal bunch length is already known."
   ]
  },
  {
   "cell_type": "markdown",
   "metadata": {},
   "source": [
    "# $R_{56}$ and $R_{65}$ of a simple dipole chicane"
   ]
  },
  {
   "cell_type": "markdown",
   "metadata": {},
   "source": [
    "\\begin{equation}\n",
    "    R_{65}=-\\frac{qV}{E_{s,in}}\\frac{2\\pi}{c}f_{RF}\n",
    "\\end{equation}\n",
    "for the most primitive dipole chicane (no quadrupoles, etc.), one can derive:\n",
    "\\begin{equation}\n",
    "    R_{56}\\simeq -2\\theta^2(L_{12}+\\frac{2}{3}L_{bm})\n",
    "\\end{equation}"
   ]
  },
  {
   "cell_type": "code",
   "execution_count": 15,
   "metadata": {},
   "outputs": [
    {
     "name": "stdout",
     "output_type": "stream",
     "text": [
      "-0.32639923673660187\n",
      "0.3256752331360858\n"
     ]
    }
   ],
   "source": [
    "c=3e8 #speed of light\n",
    "q=1.602e-19 #positron charge\n",
    "\n",
    "# RF cavity parameters: \n",
    "V=60e6 #voltage (we're dealing with MV)\n",
    "E_s_in=1.54e9*q #1.54 GeV energy of a synchronous particle, converted to J\n",
    "f_RF = 400e6 #we're dealing with MHz\n",
    "\n",
    "# Dipole chicane parameters:\n",
    "theta_deg =30 #bending angle of a dipole in degrees\n",
    "L_12 = 3.6 #distance from first to second bending magnet (along original beam axis, not along s)\n",
    "L_bm = 3.0 #length of  bending dipole\n",
    "theta_rad=np.pi/180*theta_deg\n",
    "\n",
    "R_65 = -q*V/E_s_in*2*np.pi/c*f_RF\n",
    "R_56 = -2*theta_rad**2*(L_12+2/3*L_bm)\n",
    "\n",
    "print(R_65)\n",
    "print(-1/R_56)"
   ]
  }
 ],
 "metadata": {
  "kernelspec": {
   "display_name": "Python 3.9.13 ('base')",
   "language": "python",
   "name": "python3"
  },
  "language_info": {
   "codemirror_mode": {
    "name": "ipython",
    "version": 3
   },
   "file_extension": ".py",
   "mimetype": "text/x-python",
   "name": "python",
   "nbconvert_exporter": "python",
   "pygments_lexer": "ipython3",
   "version": "3.9.13"
  },
  "orig_nbformat": 4,
  "vscode": {
   "interpreter": {
    "hash": "40d3a090f54c6569ab1632332b64b2c03c39dcf918b08424e98f38b5ae0af88f"
   }
  }
 },
 "nbformat": 4,
 "nbformat_minor": 2
}
