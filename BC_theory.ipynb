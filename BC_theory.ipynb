{
 "cells": [
  {
   "cell_type": "markdown",
   "metadata": {},
   "source": [
    "# This script is a summary of the learning done towards the design of a positron bunch compressor for the FCC-ee pre-injector complex"
   ]
  },
  {
   "cell_type": "code",
   "execution_count": 2,
   "metadata": {},
   "outputs": [],
   "source": [
    "#load libraries\n",
    "import numpy as np \n",
    "from matplotlib import pyplot as plt "
   ]
  },
  {
   "cell_type": "markdown",
   "metadata": {},
   "source": [
    "Here comes some basic theory that will be very important for the design of a bunch compressor. In general, we are dealing with particles in a 6D phase space, with the following matrix formalism:\n",
    "\\begin{equation}\n",
    "    \\begin{bmatrix}\n",
    "    x \\\\\n",
    "    x' \\\\\n",
    "    y\\\\\n",
    "    y''\\\\\n",
    "    z\\\\\n",
    "    \\delta \n",
    "    \\end{bmatrix}_s\n",
    "    =\n",
    "    \\begin{bmatrix}\n",
    "    R_{11}  & & & \\cdots & & R_{16} \\\\\n",
    "    & & & & & \\\\\n",
    "    \\vdots & & \\ddots & & R_{55} & R_{56} \\\\\n",
    "    R_{61} & & & \\cdots & R_{65} & R_{66}\n",
    "    \\end{bmatrix}\n",
    "    \\begin{bmatrix}\n",
    "    x \\\\\n",
    "    x' \\\\\n",
    "    y\\\\\n",
    "    y''\\\\\n",
    "    z\\\\\n",
    "    \\delta \n",
    "    \\end{bmatrix}_0\n",
    "\\end{equation}"
   ]
  },
  {
   "cell_type": "markdown",
   "metadata": {},
   "source": [
    "since we'll be mostly dealing with the last two (longitudinal, $z$ and $\\delta$) coordinates, we can write this also as:\n",
    "\\begin{equation}\n",
    "    \\begin{bmatrix}\n",
    "    z\\\\\n",
    "    \\delta \n",
    "    \\end{bmatrix}_s\n",
    "    =\n",
    "    \\begin{bmatrix}\n",
    "        R_{55} & R_{56} \\\\\n",
    "        R_{65} & R_{66}\n",
    "    \\end{bmatrix}\n",
    "    \\begin{bmatrix}\n",
    "    z\\\\\n",
    "    \\delta \n",
    "    \\end{bmatrix}_0\n",
    "\\end{equation}"
   ]
  },
  {
   "cell_type": "markdown",
   "metadata": {},
   "source": [
    "for reference, here is a list of variables used throughout this notebook, with their explanations:\n",
    "- $\\delta = \\frac{\\Delta p}{p}$ is the energy deviation of a particle from a reference particle\n",
    "- $x_d(s)$ is a trajectory deviation of of an off-momentum particle\n",
    "- $D(s)$ is the dispersion function as a function of position along the beamline $s$\n",
    "- $\\theta$ is generally a bending angle\n",
    "- $\\rho$ is the bending radius of a particle in a dipole"
   ]
  },
  {
   "cell_type": "markdown",
   "metadata": {},
   "source": [
    "now, we can talk about the dispersion function $D(s)$, defined as follows:\n",
    "\\begin{equation}\n",
    "    x_d(s)=D(s)\\delta\n",
    "\\end{equation}\n",
    "the path length of an off-momentum particle in a dipole is then\n",
    "\\begin{equation}\n",
    "    ds_d=(x+\\rho)d\\theta=\\left(1+\\frac{x}{\\rho}\\right)\\rho d\\theta =\\left(1+\\frac{D\\delta}{\\rho}\\right)ds\n",
    "\\end{equation}\n",
    "where x is a small offset in the particle's arrival location (and hence bending radius). The difference in the path lengths (off-momentum particle vs reference particle) is \n",
    "\\begin{equation}\n",
    "    \\Delta s=ds_d-ds=\\frac{D\\delta}{\\rho}ds\n",
    "\\end{equation}\n",
    "This can be integrated along the whole path $s$, yielding\n",
    "\\begin{equation}\n",
    "    \\frac{\\Delta L}{\\delta}=\\frac{1}{\\delta}\\int\\Delta s=\\int_0^L\\frac{D(s)}{\\rho}ds\n",
    "\\end{equation}"
   ]
  },
  {
   "cell_type": "markdown",
   "metadata": {},
   "source": [
    "The longitudinal transfer functions through a dipole can be described via the following equations:\n",
    "\\begin{equation}\n",
    "    z_{out} = z_{in}+\\frac{\\Delta L}{\\delta_{in}}\\delta_{in}\n",
    "\\end{equation}\n",
    "\n",
    "\\begin{equation}\n",
    "    \\delta_{out}=\\delta_{in}\n",
    "\\end{equation}\n",
    "arising from the fact that dipole does not add/remove energy from the particles, only bends their trajectory (hence momentum spread does not change). This can be written in the matrix form:\n",
    "\n",
    "\\begin{equation}\n",
    "    \\begin{bmatrix}\n",
    "    z\\\\\n",
    "    \\delta \n",
    "    \\end{bmatrix}_{out}\n",
    "    =\n",
    "    \\begin{bmatrix}\n",
    "        1 & R_{56} \\\\\n",
    "        0 & 1\n",
    "    \\end{bmatrix}\n",
    "    \\begin{bmatrix}\n",
    "    z\\\\\n",
    "    \\delta \n",
    "    \\end{bmatrix}_{in}\n",
    "\\end{equation}\n",
    "\n",
    "hence, it can be seen that \n",
    "\\begin{equation}\n",
    "    R_{56}=\\frac{\\Delta L}{\\delta}\n",
    "\\end{equation}\n",
    "and can be understood as the change in path length of an off-momentum particle over the momentum offset, and is a parameter of a set of optical elements performimng a dispersive action."
   ]
  },
  {
   "cell_type": "markdown",
   "metadata": {},
   "source": [
    "\\begin{equation}\n",
    "    R_{65}=-\\frac{qV}{E_{s,in}}\\frac{2\\pi}{c}f_{RF}\n",
    "\\end{equation}\n",
    "for the most primitive dipole chicane (no quadrupoles, etc.), we have:\n",
    "\\begin{equation}\n",
    "    R_{56}\\simeq -2\\theta^2(L_{12}+\\frac{2}{3}L_{bm})\n",
    "\\end{equation}"
   ]
  },
  {
   "cell_type": "code",
   "execution_count": 15,
   "metadata": {},
   "outputs": [
    {
     "name": "stdout",
     "output_type": "stream",
     "text": [
      "-0.32639923673660187\n",
      "0.3256752331360858\n"
     ]
    }
   ],
   "source": [
    "c=3e8\n",
    "q=1.602e-19\n",
    "\n",
    "# RF cavity parameters: \n",
    "V=60e6\n",
    "E_s_in=1.54e9*q #1.54 GeV energy of a synchronous particle, converted to J\n",
    "f_RF = 400e6 #400 MHz\n",
    "\n",
    "# Dipole chicane parameters:\n",
    "theta_deg =30 #bending angle of a dipole in degrees\n",
    "L_12 = 3.6 #distance from first to second bending magnet (along original beam axis, not along s)\n",
    "L_bm = 3.0 #length of  bending dipole\n",
    "theta_rad=np.pi/180*theta_deg\n",
    "\n",
    "R_65 = -q*V/E_s_in*2*np.pi/c*f_RF\n",
    "R_56 = -2*theta_rad**2*(L_12+2/3*L_bm)\n",
    "\n",
    "print(R_65)\n",
    "print(-1/R_56)"
   ]
  }
 ],
 "metadata": {
  "kernelspec": {
   "display_name": "Python 3.9.13 ('base')",
   "language": "python",
   "name": "python3"
  },
  "language_info": {
   "codemirror_mode": {
    "name": "ipython",
    "version": 3
   },
   "file_extension": ".py",
   "mimetype": "text/x-python",
   "name": "python",
   "nbconvert_exporter": "python",
   "pygments_lexer": "ipython3",
   "version": "3.9.13"
  },
  "orig_nbformat": 4,
  "vscode": {
   "interpreter": {
    "hash": "40d3a090f54c6569ab1632332b64b2c03c39dcf918b08424e98f38b5ae0af88f"
   }
  }
 },
 "nbformat": 4,
 "nbformat_minor": 2
}
